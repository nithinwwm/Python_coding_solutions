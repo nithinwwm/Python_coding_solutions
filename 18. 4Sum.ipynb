{
 "cells": [
  {
   "cell_type": "raw",
   "id": "2680b8b4",
   "metadata": {},
   "source": [
    "Given an array nums of n integers, return an array of all the unique quadruplets [nums[a], nums[b], nums[c], nums[d]] such that:\n",
    "\n",
    "0 <= a, b, c, d < n\n",
    "a, b, c, and d are distinct.\n",
    "nums[a] + nums[b] + nums[c] + nums[d] == target\n",
    "You may return the answer in any order.\n",
    "\n",
    " \n",
    "\n",
    "Example 1:\n",
    "\n",
    "Input: nums = [1,0,-1,0,-2,2], target = 0\n",
    "Output: [[-2,-1,1,2],[-2,0,0,2],[-1,0,0,1]]\n",
    "Example 2:\n",
    "\n",
    "Input: nums = [2,2,2,2,2], target = 8\n",
    "Output: [[2,2,2,2]]\n",
    " \n",
    "\n",
    "Constraints:\n",
    "\n",
    "1 <= nums.length <= 200\n",
    "-109 <= nums[i] <= 109\n",
    "-109 <= target <= 109"
   ]
  },
  {
   "cell_type": "code",
   "execution_count": null,
   "id": "e2faf740",
   "metadata": {},
   "outputs": [],
   "source": [
    "class Solution:\n",
    "    def fourSum(self, nums: List[int], target: int) -> List[List[int]]:\n",
    "        nums.sort()\n",
    "        if len(nums)<4: return []\n",
    "        res = []\n",
    "\n",
    "        for i,num in range(0,len(nums)-2):\n",
    "            if i>0 and num == nums[i-1]:\n",
    "                continue\n",
    "\n",
    "            a = nums[i]\n",
    "            b = i+1\n",
    "            c = len(nums)-2\n",
    "            d = nums[]\n",
    "\n",
    "            while b<c:\n",
    "                sum = a + nums[b] + nums[c] + d\n",
    "                if sum<target:\n",
    "                    b+=1\n",
    "                elif sum>target:\n",
    "                    c-=1\n",
    "                else:\n",
    "                    res.append([])"
   ]
  }
 ],
 "metadata": {
  "kernelspec": {
   "display_name": "Python 3 (ipykernel)",
   "language": "python",
   "name": "python3"
  },
  "language_info": {
   "codemirror_mode": {
    "name": "ipython",
    "version": 3
   },
   "file_extension": ".py",
   "mimetype": "text/x-python",
   "name": "python",
   "nbconvert_exporter": "python",
   "pygments_lexer": "ipython3",
   "version": "3.9.13"
  }
 },
 "nbformat": 4,
 "nbformat_minor": 5
}
