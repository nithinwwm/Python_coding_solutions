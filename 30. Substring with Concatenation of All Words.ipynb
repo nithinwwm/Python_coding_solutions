{
 "cells": [
  {
   "cell_type": "raw",
   "id": "0a4e74f1",
   "metadata": {},
   "source": [
    "You are given a string s and an array of strings words. All the strings of words are of the same length.\n",
    "\n",
    "A concatenated substring in s is a substring that contains all the strings of any permutation of words concatenated.\n",
    "\n",
    "For example, if words = [\"ab\",\"cd\",\"ef\"], then \"abcdef\", \"abefcd\", \"cdabef\", \"cdefab\", \"efabcd\", and \"efcdab\" are all concatenated strings. \"acdbef\" is not a concatenated substring because it is not the concatenation of any permutation of words.\n",
    "Return the starting indices of all the concatenated substrings in s. You can return the answer in any order."
   ]
  },
  {
   "cell_type": "raw",
   "id": "6182e487",
   "metadata": {},
   "source": [
    "Example 1:\n",
    "\n",
    "Input: s = \"barfoothefoobarman\", words = [\"foo\",\"bar\"]\n",
    "Output: [0,9]\n",
    "Explanation: Since words.length == 2 and words[i].length == 3, the concatenated substring has to be of length 6.\n",
    "The substring starting at 0 is \"barfoo\". It is the concatenation of [\"bar\",\"foo\"] which is a permutation of words.\n",
    "The substring starting at 9 is \"foobar\". It is the concatenation of [\"foo\",\"bar\"] which is a permutation of words.\n",
    "The output order does not matter. Returning [9,0] is fine too."
   ]
  },
  {
   "cell_type": "raw",
   "id": "3c4c3823",
   "metadata": {},
   "source": [
    "Example 2:\n",
    "\n",
    "Input: s = \"wordgoodgoodgoodbestword\", words = [\"word\",\"good\",\"best\",\"word\"]\n",
    "Output: []\n",
    "Explanation: Since words.length == 4 and words[i].length == 4, the concatenated substring has to be of length 16.\n",
    "There is no substring of length 16 is s that is equal to the concatenation of any permutation of words.\n",
    "We return an empty array."
   ]
  },
  {
   "cell_type": "raw",
   "id": "cea8f079",
   "metadata": {},
   "source": [
    "Example 3:\n",
    "\n",
    "Input: s = \"barfoofoobarthefoobarman\", words = [\"bar\",\"foo\",\"the\"]\n",
    "Output: [6,9,12]\n",
    "Explanation: Since words.length == 3 and words[i].length == 3, the concatenated substring has to be of length 9.\n",
    "The substring starting at 6 is \"foobarthe\". It is the concatenation of [\"foo\",\"bar\",\"the\"] which is a permutation of words.\n",
    "The substring starting at 9 is \"barthefoo\". It is the concatenation of [\"bar\",\"the\",\"foo\"] which is a permutation of words.\n",
    "The substring starting at 12 is \"thefoobar\". It is the concatenation of [\"the\",\"foo\",\"bar\"] which is a permutation of words."
   ]
  },
  {
   "cell_type": "code",
   "execution_count": 4,
   "id": "13f5cd0c",
   "metadata": {},
   "outputs": [],
   "source": [
    "from collections import Counter\n",
    "def findSubstring(s, words): \n",
    "\n",
    "    resultindex = []\n",
    "    lenofsub = len(words[0])*len(words)\n",
    "    start = 0\n",
    "    end = lenofsub-1\n",
    "\n",
    "    while end<len(s):\n",
    "        left = start\n",
    "        right = left+len(words[0])-1\n",
    "        temp = []\n",
    "\n",
    "        while right<=end:\n",
    "            temp.append(s[left:right+1])\n",
    "            left = right+1\n",
    "            right += len(words[0])\n",
    "        if Counter(temp) == Counter(words):\n",
    "            resultindex.append(start)\n",
    "        start +=1\n",
    "        end +=1\n",
    "\n",
    "    return resultindex"
   ]
  },
  {
   "cell_type": "code",
   "execution_count": 5,
   "id": "10b0cc57",
   "metadata": {},
   "outputs": [
    {
     "data": {
      "text/plain": [
       "[6, 9, 12]"
      ]
     },
     "execution_count": 5,
     "metadata": {},
     "output_type": "execute_result"
    }
   ],
   "source": [
    "s = \"barfoofoobarthefoobarman\"\n",
    "words = [\"bar\",\"foo\",\"the\"]\n",
    "findSubstring(s, words)"
   ]
  },
  {
   "cell_type": "code",
   "execution_count": null,
   "id": "de3eb72c",
   "metadata": {},
   "outputs": [],
   "source": []
  }
 ],
 "metadata": {
  "kernelspec": {
   "display_name": "Python 3 (ipykernel)",
   "language": "python",
   "name": "python3"
  },
  "language_info": {
   "codemirror_mode": {
    "name": "ipython",
    "version": 3
   },
   "file_extension": ".py",
   "mimetype": "text/x-python",
   "name": "python",
   "nbconvert_exporter": "python",
   "pygments_lexer": "ipython3",
   "version": "3.9.13"
  }
 },
 "nbformat": 4,
 "nbformat_minor": 5
}
