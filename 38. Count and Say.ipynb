{
 "cells": [
  {
   "cell_type": "raw",
   "id": "57382bb7",
   "metadata": {},
   "source": [
    "The count-and-say sequence is a sequence of digit strings defined by the recursive formula:\n",
    "\n",
    "countAndSay(1) = \"1\"\n",
    "countAndSay(n) is the way you would \"say\" the digit string from countAndSay(n-1), which is then converted into a different digit string.\n",
    "To determine how you \"say\" a digit string, split it into the minimal number of substrings such that each substring contains exactly one unique digit. Then for each substring, say the number of digits, then say the digit. Finally, concatenate every said digit.\n",
    "\n",
    "For example, the saying and conversion for digit string \"3322251\":\n",
    "\n",
    "\n",
    "Given a positive integer n, return the nth term of the count-and-say sequence.\n",
    "\n",
    " \n",
    "\n",
    "Example 1:\n",
    "\n",
    "Input: n = 1\n",
    "Output: \"1\"\n",
    "Explanation: This is the base case.\n",
    "Example 2:\n",
    "\n",
    "Input: n = 4\n",
    "Output: \"1211\"\n",
    "Explanation:\n",
    "countAndSay(1) = \"1\"\n",
    "countAndSay(2) = say \"1\" = one 1 = \"11\"\n",
    "countAndSay(3) = say \"11\" = two 1's = \"21\"\n",
    "countAndSay(4) = say \"21\" = one 2 + one 1 = \"12\" + \"11\" = \"1211\"\n",
    " \n",
    "\n",
    "Constraints:\n",
    "\n",
    "1 <= n <= 30"
   ]
  },
  {
   "cell_type": "code",
   "execution_count": null,
   "id": "97ea045b",
   "metadata": {},
   "outputs": [],
   "source": [
    "class Solution:\n",
    "    def countAndSay(self, n: int) -> str:\n",
    "\n",
    "        if n==1: return '1'\n",
    "        recur = self.countAndSay(n-1)\n",
    "\n",
    "        result = ''\n",
    "        count = 1\n",
    "        for i in range(len(recur)):\n",
    "            if i==len(recur)-1 or recur[i] != recur[i+1]:\n",
    "                result += str(count) + recur[i]\n",
    "                count = 1\n",
    "            else:\n",
    "                count +=1\n",
    "        return result"
   ]
  }
 ],
 "metadata": {
  "kernelspec": {
   "display_name": "Python 3 (ipykernel)",
   "language": "python",
   "name": "python3"
  },
  "language_info": {
   "codemirror_mode": {
    "name": "ipython",
    "version": 3
   },
   "file_extension": ".py",
   "mimetype": "text/x-python",
   "name": "python",
   "nbconvert_exporter": "python",
   "pygments_lexer": "ipython3",
   "version": "3.9.13"
  }
 },
 "nbformat": 4,
 "nbformat_minor": 5
}
