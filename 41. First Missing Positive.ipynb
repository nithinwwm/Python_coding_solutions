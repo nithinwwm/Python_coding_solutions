{
 "cells": [
  {
   "cell_type": "raw",
   "id": "9cca77b2",
   "metadata": {},
   "source": [
    "Given an unsorted integer array nums, return the smallest missing positive integer.\n",
    "\n",
    "You must implement an algorithm that runs in O(n) time and uses constant extra space."
   ]
  },
  {
   "cell_type": "raw",
   "id": "c097e27c",
   "metadata": {},
   "source": [
    "Example 1:\n",
    "\n",
    "Input: nums = [1,2,0]\n",
    "Output: 3\n",
    "Explanation: The numbers in the range [1,2] are all in the array."
   ]
  },
  {
   "cell_type": "raw",
   "id": "a6eac406",
   "metadata": {},
   "source": [
    "Example 2:\n",
    "\n",
    "Input: nums = [3,4,-1,1]\n",
    "Output: 2\n",
    "Explanation: 1 is in the array but 2 is missing."
   ]
  },
  {
   "cell_type": "raw",
   "id": "3534b59d",
   "metadata": {},
   "source": [
    "Example 3:\n",
    "\n",
    "Input: nums = [7,8,9,11,12]\n",
    "Output: 1\n",
    "Explanation: The smallest positive integer 1 is missing."
   ]
  },
  {
   "cell_type": "code",
   "execution_count": 1,
   "id": "9c0215a5",
   "metadata": {},
   "outputs": [],
   "source": [
    "def firstMissingPositive(nums):\n",
    "    nums.append(0)\n",
    "    N = len(nums)\n",
    "    arr = [0 for i in range(N)]\n",
    "\n",
    "    for i in range(N):\n",
    "        if 0 < nums[i] <= N:\n",
    "            arr[nums[i]-1] +=1\n",
    "    for i in range(N):\n",
    "        if arr[i] == 0:\n",
    "            return i+1"
   ]
  },
  {
   "cell_type": "code",
   "execution_count": 3,
   "id": "901f5d8e",
   "metadata": {},
   "outputs": [
    {
     "data": {
      "text/plain": [
       "1"
      ]
     },
     "execution_count": 3,
     "metadata": {},
     "output_type": "execute_result"
    }
   ],
   "source": [
    "nums = [7,8,9,11,12]\n",
    "firstMissingPositive(nums)"
   ]
  },
  {
   "cell_type": "code",
   "execution_count": null,
   "id": "71de7578",
   "metadata": {},
   "outputs": [],
   "source": []
  }
 ],
 "metadata": {
  "kernelspec": {
   "display_name": "Python 3 (ipykernel)",
   "language": "python",
   "name": "python3"
  },
  "language_info": {
   "codemirror_mode": {
    "name": "ipython",
    "version": 3
   },
   "file_extension": ".py",
   "mimetype": "text/x-python",
   "name": "python",
   "nbconvert_exporter": "python",
   "pygments_lexer": "ipython3",
   "version": "3.9.13"
  }
 },
 "nbformat": 4,
 "nbformat_minor": 5
}
