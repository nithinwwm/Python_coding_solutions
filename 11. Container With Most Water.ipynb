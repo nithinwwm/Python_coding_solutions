{
 "cells": [
  {
   "cell_type": "raw",
   "id": "b1b93512",
   "metadata": {},
   "source": [
    "You are given an integer array height of length n. There are n vertical lines drawn such that the two endpoints of the ith line are (i, 0) and (i, height[i]).\n",
    "\n",
    "Find two lines that together with the x-axis form a container, such that the container contains the most water.\n",
    "\n",
    "Return the maximum amount of water a container can store.\n",
    "\n",
    "Notice that you may not slant the container.\n",
    "\n",
    " \n",
    "\n",
    "Example 1:\n",
    "\n",
    "\n",
    "Input: height = [1,8,6,2,5,4,8,3,7]\n",
    "Output: 49\n",
    "Explanation: The above vertical lines are represented by array [1,8,6,2,5,4,8,3,7]. In this case, the max area of water (blue section) the container can contain is 49.\n",
    "\n",
    "Example 2:\n",
    "\n",
    "Input: height = [1,1]\n",
    "Output: 1\n",
    " \n",
    "\n",
    "Constraints:\n",
    "\n",
    "n == height.length\n",
    "2 <= n <= 105\n",
    "0 <= height[i] <= 104"
   ]
  },
  {
   "cell_type": "code",
   "execution_count": null,
   "id": "9abf9fb8",
   "metadata": {},
   "outputs": [],
   "source": [
    "class Solution:\n",
    "    def maxArea(self, height: List[int]) -> int:\n",
    "        maxim = 0\n",
    "        i,j = 0,len(height)-1\n",
    "        start,end = 0,0\n",
    "        while i != j:\n",
    "            if height[i] < start:\n",
    "                i+=1\n",
    "                continue\n",
    "            if height[j] < end:\n",
    "                j-=1\n",
    "                continue\n",
    "\n",
    "            if height[i]<height[j]:\n",
    "                current = height[i] * (j-i)\n",
    "                start=height[i]\n",
    "                i+=1\n",
    "            else:\n",
    "                current = height[j] * (j-i)\n",
    "                end=height[j]\n",
    "                j-=1\n",
    "            maxim = max(maxim,current)\n",
    "        return maxim"
   ]
  }
 ],
 "metadata": {
  "kernelspec": {
   "display_name": "Python 3 (ipykernel)",
   "language": "python",
   "name": "python3"
  },
  "language_info": {
   "codemirror_mode": {
    "name": "ipython",
    "version": 3
   },
   "file_extension": ".py",
   "mimetype": "text/x-python",
   "name": "python",
   "nbconvert_exporter": "python",
   "pygments_lexer": "ipython3",
   "version": "3.9.13"
  }
 },
 "nbformat": 4,
 "nbformat_minor": 5
}
