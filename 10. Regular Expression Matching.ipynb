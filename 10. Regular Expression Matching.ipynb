{
 "cells": [
  {
   "cell_type": "raw",
   "id": "c7d81bcd",
   "metadata": {},
   "source": [
    "Given an input string s and a pattern p, implement regular expression matching with support for '.' and '*' where:\n",
    "\n",
    "'.' Matches any single character.​​​​\n",
    "'*' Matches zero or more of the preceding element.\n",
    "The matching should cover the entire input string (not partial)."
   ]
  },
  {
   "cell_type": "raw",
   "id": "552dda61",
   "metadata": {},
   "source": [
    "Example 1:\n",
    "\n",
    "Input: s = \"aa\", p = \"a\"\n",
    "Output: false\n",
    "Explanation: \"a\" does not match the entire string \"aa\"."
   ]
  },
  {
   "cell_type": "raw",
   "id": "398265f8",
   "metadata": {},
   "source": [
    "Example 2:\n",
    "\n",
    "Input: s = \"aa\", p = \"a*\"\n",
    "Output: true\n",
    "Explanation: '*' means zero or more of the preceding element, 'a'. Therefore, by repeating 'a' once, it becomes \"aa\"."
   ]
  },
  {
   "cell_type": "raw",
   "id": "0dd95bc7",
   "metadata": {},
   "source": [
    "Example 3:\n",
    "\n",
    "Input: s = \"ab\", p = \".*\"\n",
    "Output: true\n",
    "Explanation: \".*\" means \"zero or more (*) of any character (.)\"."
   ]
  },
  {
   "cell_type": "code",
   "execution_count": 3,
   "id": "5d255ae6",
   "metadata": {},
   "outputs": [],
   "source": [
    "import re\n",
    "def isMatch(s, p):\n",
    "    ls, lp = len(s), len(p)\n",
    "    dp = [[False] * (ls+1) for _ in range(lp+1)]\n",
    "    dp[0][0] = True\n",
    "    for i in range(1, lp+1):\n",
    "        for j in range(ls+1):\n",
    "            dp[i][j] = ((i>1 and dp[i-2][j]) or dp[i-1][j] or dp[i][j] or (j>0 and dp[i][j-1] and (s[j-1]==p[i-2] or p[i-2]=='.'))) if p[i-1]=='*' else (j>0 and dp[i-1][j-1] and (p[i-1]==s[j-1] or p[i-1]=='.'))\n",
    "    return dp[-1][-1]"
   ]
  },
  {
   "cell_type": "code",
   "execution_count": 4,
   "id": "e1781117",
   "metadata": {},
   "outputs": [
    {
     "data": {
      "text/plain": [
       "True"
      ]
     },
     "execution_count": 4,
     "metadata": {},
     "output_type": "execute_result"
    }
   ],
   "source": [
    "s = \"aa\"\n",
    "p = \"a*\"\n",
    "isMatch(s,p)"
   ]
  },
  {
   "cell_type": "code",
   "execution_count": null,
   "id": "2d3d8de9",
   "metadata": {},
   "outputs": [],
   "source": []
  }
 ],
 "metadata": {
  "kernelspec": {
   "display_name": "Python 3 (ipykernel)",
   "language": "python",
   "name": "python3"
  },
  "language_info": {
   "codemirror_mode": {
    "name": "ipython",
    "version": 3
   },
   "file_extension": ".py",
   "mimetype": "text/x-python",
   "name": "python",
   "nbconvert_exporter": "python",
   "pygments_lexer": "ipython3",
   "version": "3.9.13"
  }
 },
 "nbformat": 4,
 "nbformat_minor": 5
}
