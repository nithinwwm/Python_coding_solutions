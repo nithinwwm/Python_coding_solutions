{
 "cells": [
  {
   "cell_type": "markdown",
   "id": "8eb8b49a",
   "metadata": {},
   "source": [
    "You are given an array of k linked-lists lists, each linked-list is sorted in ascending order.\n",
    "\n",
    "Merge all the linked-lists into one sorted linked-list and return it."
   ]
  },
  {
   "cell_type": "raw",
   "id": "9d449b0e",
   "metadata": {},
   "source": [
    "Example 1:\n",
    "\n",
    "Input: lists = [[1,4,5],[1,3,4],[2,6]]\n",
    "Output: [1,1,2,3,4,4,5,6]\n",
    "Explanation: The linked-lists are:\n",
    "[\n",
    "  1->4->5,\n",
    "  1->3->4,\n",
    "  2->6\n",
    "]\n",
    "merging them into one sorted list:\n",
    "1->1->2->3->4->4->5->6"
   ]
  },
  {
   "cell_type": "raw",
   "id": "fb9a607c",
   "metadata": {},
   "source": [
    "Example 2:\n",
    "\n",
    "Input: lists = []\n",
    "Output: []"
   ]
  },
  {
   "cell_type": "raw",
   "id": "2f456114",
   "metadata": {},
   "source": [
    "Example 3:\n",
    "\n",
    "Input: lists = [[]]\n",
    "Output: []"
   ]
  },
  {
   "cell_type": "code",
   "execution_count": null,
   "id": "4c7f2c27",
   "metadata": {},
   "outputs": [],
   "source": [
    "# Definition for singly-linked list.\n",
    "class ListNode:\n",
    "     def __init__(self, val=0, next=None):\n",
    "         self.val = val\n",
    "         self.next = next\n",
    "def mergeKLists(self, lists: List[Optional[ListNode]]):\n",
    "    heap = []\n",
    "    for i,l in enumerate(lists):\n",
    "        if l: heappush(heap,(l.val,i))\n",
    "\n",
    "    head = dummy = ListNode(0)\n",
    "    while heap:\n",
    "        val,i = heappop(heap)\n",
    "        dummy.next = ListNode(val)\n",
    "        if lists[i].next:\n",
    "            heappush(heap,(lists[i].next.val,i))\n",
    "            lists[i] = lists[i].next\n",
    "        dummy = dummy.next\n",
    "    return head.next"
   ]
  },
  {
   "cell_type": "code",
   "execution_count": null,
   "id": "d3ffa978",
   "metadata": {},
   "outputs": [],
   "source": []
  }
 ],
 "metadata": {
  "kernelspec": {
   "display_name": "Python 3 (ipykernel)",
   "language": "python",
   "name": "python3"
  },
  "language_info": {
   "codemirror_mode": {
    "name": "ipython",
    "version": 3
   },
   "file_extension": ".py",
   "mimetype": "text/x-python",
   "name": "python",
   "nbconvert_exporter": "python",
   "pygments_lexer": "ipython3",
   "version": "3.9.13"
  }
 },
 "nbformat": 4,
 "nbformat_minor": 5
}
