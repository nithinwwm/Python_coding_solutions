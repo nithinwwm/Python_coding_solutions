{
 "cells": [
  {
   "cell_type": "raw",
   "id": "395743e7",
   "metadata": {},
   "source": [
    "Given a string s, return the longest \n",
    "palindromic\n",
    " \n",
    "substring\n",
    " in s.\n",
    "\n",
    " \n",
    "\n",
    "Example 1:\n",
    "\n",
    "Input: s = \"babad\"\n",
    "Output: \"bab\"\n",
    "Explanation: \"aba\" is also a valid answer.\n",
    "Example 2:\n",
    "\n",
    "Input: s = \"cbbd\"\n",
    "Output: \"bb\"\n",
    " \n",
    "\n",
    "Constraints:\n",
    "\n",
    "1 <= s.length <= 1000\n",
    "s consist of only digits and English letters."
   ]
  },
  {
   "cell_type": "code",
   "execution_count": null,
   "id": "003e86ed",
   "metadata": {},
   "outputs": [],
   "source": [
    "class Solution:\n",
    "    def longestPalindrome(self, s: str) -> str:\n",
    "        sub = ''\n",
    "        longest = 0\n",
    "        for i in range(len(s)):\n",
    "            left = i\n",
    "            right = i\n",
    "            while left>=0 and right<len(s) and s[left] == s[right]:\n",
    "                if (right-left+1) > longest:\n",
    "                    sub = s[left:right+1]\n",
    "                    longest = right-left+1\n",
    "                left-=1\n",
    "                right+=1\n",
    "            \n",
    "            left = i\n",
    "            right = i+1\n",
    "            while left>=0 and right<len(s) and s[left] == s[right]:\n",
    "                if (right-left+1) > longest:\n",
    "                    sub = s[left:right+1]\n",
    "                    longest = right-left+1\n",
    "                left-=1\n",
    "                right+=1\n",
    "        return sub"
   ]
  }
 ],
 "metadata": {
  "kernelspec": {
   "display_name": "Python 3 (ipykernel)",
   "language": "python",
   "name": "python3"
  },
  "language_info": {
   "codemirror_mode": {
    "name": "ipython",
    "version": 3
   },
   "file_extension": ".py",
   "mimetype": "text/x-python",
   "name": "python",
   "nbconvert_exporter": "python",
   "pygments_lexer": "ipython3",
   "version": "3.9.13"
  }
 },
 "nbformat": 4,
 "nbformat_minor": 5
}
