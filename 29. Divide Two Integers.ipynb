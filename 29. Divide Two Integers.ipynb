{
 "cells": [
  {
   "cell_type": "raw",
   "id": "3b533ac4",
   "metadata": {},
   "source": [
    "Given two integers dividend and divisor, divide two integers without using multiplication, division, and mod operator.\n",
    "\n",
    "The integer division should truncate toward zero, which means losing its fractional part. For example, 8.345 would be truncated to 8, and -2.7335 would be truncated to -2.\n",
    "\n",
    "Return the quotient after dividing dividend by divisor.\n",
    "\n",
    "Note: Assume we are dealing with an environment that could only store integers within the 32-bit signed integer range: [−231, 231 − 1]. For this problem, if the quotient is strictly greater than 231 - 1, then return 231 - 1, and if the quotient is strictly less than -231, then return -231.\n",
    "\n",
    " \n",
    "\n",
    "Example 1:\n",
    "\n",
    "Input: dividend = 10, divisor = 3\n",
    "Output: 3\n",
    "Explanation: 10/3 = 3.33333.. which is truncated to 3.\n",
    "Example 2:\n",
    "\n",
    "Input: dividend = 7, divisor = -3\n",
    "Output: -2\n",
    "Explanation: 7/-3 = -2.33333.. which is truncated to -2.\n",
    " \n",
    "\n",
    "Constraints:\n",
    "\n",
    "-231 <= dividend, divisor <= 231 - 1\n",
    "divisor != 0"
   ]
  },
  {
   "cell_type": "code",
   "execution_count": null,
   "id": "3432bcbf",
   "metadata": {},
   "outputs": [],
   "source": [
    "class Solution:\n",
    "    def divide(self, dividend: int, divisor: int) -> int:\n",
    "\n",
    "        d1 = abs(dividend)\n",
    "        d2 = abs(divisor)\n",
    "        result = 0\n",
    "        while d1>=d2:\n",
    "            temp = d2\n",
    "            mul = 1\n",
    "            while d1>=temp:\n",
    "                d1 -= temp\n",
    "                result += mul\n",
    "                mul += mul\n",
    "                temp += temp\n",
    "        if (dividend<0 and divisor>=0) or (dividend>=0 and divisor<0):\n",
    "            result = -result    \n",
    "        return min(2147483647, max(result,-2147483648))"
   ]
  }
 ],
 "metadata": {
  "kernelspec": {
   "display_name": "Python 3 (ipykernel)",
   "language": "python",
   "name": "python3"
  },
  "language_info": {
   "codemirror_mode": {
    "name": "ipython",
    "version": 3
   },
   "file_extension": ".py",
   "mimetype": "text/x-python",
   "name": "python",
   "nbconvert_exporter": "python",
   "pygments_lexer": "ipython3",
   "version": "3.9.13"
  }
 },
 "nbformat": 4,
 "nbformat_minor": 5
}
