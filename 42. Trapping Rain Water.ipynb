{
 "cells": [
  {
   "cell_type": "markdown",
   "id": "52313e53",
   "metadata": {},
   "source": [
    "Given n non-negative integers representing an elevation map where the width of each bar is 1, compute how much water it can trap after raining."
   ]
  },
  {
   "cell_type": "raw",
   "id": "4a19d6c8",
   "metadata": {},
   "source": [
    "Input: height = [0,1,0,2,1,0,1,3,2,1,2,1]\n",
    "Output: 6\n",
    "Explanation: The above elevation map (black section) is represented by array [0,1,0,2,1,0,1,3,2,1,2,1]. In this case, 6 units of rain water (blue section) are being trapped."
   ]
  },
  {
   "cell_type": "raw",
   "id": "b46b4fa3",
   "metadata": {},
   "source": [
    "Example 2:\n",
    "\n",
    "Input: height = [4,2,0,3,2,5]\n",
    "Output: 9"
   ]
  },
  {
   "cell_type": "code",
   "execution_count": 1,
   "id": "4ecc7eb9",
   "metadata": {},
   "outputs": [],
   "source": [
    "def trap(height):\n",
    "    if not height: return 0\n",
    "    l = 0\n",
    "    r = len(height)-1\n",
    "    maxleft = height[l]\n",
    "    maxright = height[r]\n",
    "    water_sum = 0\n",
    "\n",
    "    while l<r:\n",
    "        if maxleft < maxright:\n",
    "            l+=1\n",
    "            maxleft = max(height[l],maxleft)\n",
    "            water_sum += (maxleft - height[l])\n",
    "        else:\n",
    "            r-=1\n",
    "            maxright = max(height[r],maxright)\n",
    "            water_sum += (maxright - height[r])\n",
    "    return water_sum"
   ]
  },
  {
   "cell_type": "code",
   "execution_count": 2,
   "id": "e9ac553d",
   "metadata": {},
   "outputs": [
    {
     "data": {
      "text/plain": [
       "9"
      ]
     },
     "execution_count": 2,
     "metadata": {},
     "output_type": "execute_result"
    }
   ],
   "source": [
    "height = [4,2,0,3,2,5]\n",
    "trap(height)"
   ]
  },
  {
   "cell_type": "code",
   "execution_count": null,
   "id": "88047899",
   "metadata": {},
   "outputs": [],
   "source": []
  }
 ],
 "metadata": {
  "kernelspec": {
   "display_name": "Python 3 (ipykernel)",
   "language": "python",
   "name": "python3"
  },
  "language_info": {
   "codemirror_mode": {
    "name": "ipython",
    "version": 3
   },
   "file_extension": ".py",
   "mimetype": "text/x-python",
   "name": "python",
   "nbconvert_exporter": "python",
   "pygments_lexer": "ipython3",
   "version": "3.9.13"
  }
 },
 "nbformat": 4,
 "nbformat_minor": 5
}
