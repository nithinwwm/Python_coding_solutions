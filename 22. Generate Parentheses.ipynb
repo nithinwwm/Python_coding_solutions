{
 "cells": [
  {
   "cell_type": "raw",
   "id": "744eb344",
   "metadata": {},
   "source": [
    "Given n pairs of parentheses, write a function to generate all combinations of well-formed parentheses.\n",
    "\n",
    " \n",
    "\n",
    "Example 1:\n",
    "\n",
    "Input: n = 3\n",
    "Output: [\"((()))\",\"(()())\",\"(())()\",\"()(())\",\"()()()\"]\n",
    "Example 2:\n",
    "\n",
    "Input: n = 1\n",
    "Output: [\"()\"]\n",
    " \n",
    "\n",
    "Constraints:\n",
    "\n",
    "1 <= n <= 8"
   ]
  },
  {
   "cell_type": "code",
   "execution_count": null,
   "id": "725916a6",
   "metadata": {},
   "outputs": [],
   "source": [
    "class Solution:\n",
    "    def generateParenthesis(self, n: int) -> List[str]:\n",
    "        stack = []\n",
    "        result = []\n",
    "        def recurs(openN,closeN):\n",
    "            if openN==closeN==n:\n",
    "                result.append(''.join(stack))\n",
    "                return\n",
    "            if openN<n:\n",
    "                stack.append('(')\n",
    "                recurs(openN+1,closeN)\n",
    "                stack.pop()\n",
    "            if closeN<openN:\n",
    "                stack.append(')')\n",
    "                recurs(openN,closeN+1)\n",
    "                stack.pop()\n",
    "            \n",
    "        recurs(0,0)\n",
    "        return result"
   ]
  }
 ],
 "metadata": {
  "kernelspec": {
   "display_name": "Python 3 (ipykernel)",
   "language": "python",
   "name": "python3"
  },
  "language_info": {
   "codemirror_mode": {
    "name": "ipython",
    "version": 3
   },
   "file_extension": ".py",
   "mimetype": "text/x-python",
   "name": "python",
   "nbconvert_exporter": "python",
   "pygments_lexer": "ipython3",
   "version": "3.9.13"
  }
 },
 "nbformat": 4,
 "nbformat_minor": 5
}
