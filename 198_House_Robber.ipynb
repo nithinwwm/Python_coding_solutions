{
 "cells": [
  {
   "cell_type": "markdown",
   "id": "ef9b1882",
   "metadata": {},
   "source": [
    "You are a professional robber planning to rob houses along a street. Each house has a certain amount of money stashed, the only constraint stopping you from robbing each of them is that adjacent houses have security systems connected and it will automatically contact the police if two adjacent houses were broken into on the same night.\n",
    "\n",
    "Given an integer array nums representing the amount of money of each house, return the maximum amount of money you can rob tonight without alerting the police."
   ]
  },
  {
   "cell_type": "raw",
   "id": "0e300fe4",
   "metadata": {},
   "source": [
    "Example 1:\n",
    "    \n",
    "Input: nums = [1,2,3,1]\n",
    "Output: 4\n",
    "Explanation: Rob house 1 (money = 1) and then rob house 3 (money = 3).\n",
    "Total amount you can rob = 1 + 3 = 4."
   ]
  },
  {
   "cell_type": "raw",
   "id": "93d3c5e0",
   "metadata": {},
   "source": [
    "Example 2:\n",
    "\n",
    "Input: nums = [2,7,9,3,1]\n",
    "Output: 12\n",
    "Explanation: Rob house 1 (money = 2), rob house 3 (money = 9) and rob house 5 (money = 1).\n",
    "Total amount you can rob = 2 + 9 + 1 = 12."
   ]
  },
  {
   "cell_type": "code",
   "execution_count": 1,
   "id": "fee4d960",
   "metadata": {},
   "outputs": [],
   "source": [
    "def rob(nums):\n",
    "    n1 = n2 = 0\n",
    "    for i in nums:\n",
    "        temp = max(n1+i,n2)\n",
    "        n1 = n2\n",
    "        n2 = temp\n",
    "    return n2"
   ]
  },
  {
   "cell_type": "code",
   "execution_count": 2,
   "id": "4c850bbf",
   "metadata": {},
   "outputs": [
    {
     "data": {
      "text/plain": [
       "12"
      ]
     },
     "execution_count": 2,
     "metadata": {},
     "output_type": "execute_result"
    }
   ],
   "source": [
    "rob([2,7,9,3,1])"
   ]
  }
 ],
 "metadata": {
  "kernelspec": {
   "display_name": "Python 3 (ipykernel)",
   "language": "python",
   "name": "python3"
  },
  "language_info": {
   "codemirror_mode": {
    "name": "ipython",
    "version": 3
   },
   "file_extension": ".py",
   "mimetype": "text/x-python",
   "name": "python",
   "nbconvert_exporter": "python",
   "pygments_lexer": "ipython3",
   "version": "3.9.13"
  }
 },
 "nbformat": 4,
 "nbformat_minor": 5
}
