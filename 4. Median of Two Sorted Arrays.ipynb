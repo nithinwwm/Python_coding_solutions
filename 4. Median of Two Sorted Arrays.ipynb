{
 "cells": [
  {
   "cell_type": "markdown",
   "id": "1f92f937",
   "metadata": {},
   "source": [
    "Given two sorted arrays nums1 and nums2 of size m and n respectively, return the median of the two sorted arrays.\n",
    "\n",
    "The overall run time complexity should be O(log (m+n))."
   ]
  },
  {
   "cell_type": "raw",
   "id": "e1200854",
   "metadata": {},
   "source": [
    "Example 1:\n",
    "\n",
    "Input: nums1 = [1,3], nums2 = [2]\n",
    "Output: 2.00000\n",
    "Explanation: merged array = [1,2,3] and median is 2."
   ]
  },
  {
   "cell_type": "raw",
   "id": "44a5bdf6",
   "metadata": {},
   "source": [
    "Example 2:\n",
    "\n",
    "Input: nums1 = [1,2], nums2 = [3,4]\n",
    "Output: 2.50000\n",
    "Explanation: merged array = [1,2,3,4] and median is (2 + 3) / 2 = 2.5."
   ]
  },
  {
   "cell_type": "code",
   "execution_count": 4,
   "id": "157a5d2a",
   "metadata": {},
   "outputs": [],
   "source": [
    "def findMedianSortedArrays(nums1, nums2):\n",
    "    mergearr = []\n",
    "    i,j,mid = 0,0,0\n",
    "    while i < len(nums1) and j < len(nums2):\n",
    "        if nums1[i] < nums2[j]:\n",
    "            mergearr.append(nums1[i])\n",
    "            i+=1\n",
    "        else:\n",
    "            mergearr.append(nums2[j])\n",
    "            j+=1\n",
    "    if nums1: mergearr.extend(nums1[i:])\n",
    "    if nums2: mergearr.extend(nums2[j:])\n",
    "    mid = int(len(mergearr)/2)\n",
    "    if len(mergearr)%2 != 0: \n",
    "        median = mergearr[mid]\n",
    "    else:\n",
    "        median = (mergearr[mid] + mergearr[mid-1])/2\n",
    "    return median"
   ]
  },
  {
   "cell_type": "code",
   "execution_count": 5,
   "id": "9ae90aeb",
   "metadata": {},
   "outputs": [
    {
     "data": {
      "text/plain": [
       "2"
      ]
     },
     "execution_count": 5,
     "metadata": {},
     "output_type": "execute_result"
    }
   ],
   "source": [
    "findMedianSortedArrays(nums1, nums2)"
   ]
  },
  {
   "cell_type": "code",
   "execution_count": 2,
   "id": "c235c32a",
   "metadata": {},
   "outputs": [],
   "source": [
    "nums1 = [1,3]\n",
    "nums2 = [2]"
   ]
  },
  {
   "cell_type": "code",
   "execution_count": null,
   "id": "55167d6b",
   "metadata": {},
   "outputs": [],
   "source": []
  }
 ],
 "metadata": {
  "kernelspec": {
   "display_name": "Python 3 (ipykernel)",
   "language": "python",
   "name": "python3"
  },
  "language_info": {
   "codemirror_mode": {
    "name": "ipython",
    "version": 3
   },
   "file_extension": ".py",
   "mimetype": "text/x-python",
   "name": "python",
   "nbconvert_exporter": "python",
   "pygments_lexer": "ipython3",
   "version": "3.9.13"
  }
 },
 "nbformat": 4,
 "nbformat_minor": 5
}
