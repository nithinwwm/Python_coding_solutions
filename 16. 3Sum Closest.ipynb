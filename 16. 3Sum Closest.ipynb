{
 "cells": [
  {
   "cell_type": "raw",
   "id": "a5a45da9",
   "metadata": {},
   "source": [
    "Given an integer array nums of length n and an integer target, find three integers in nums such that the sum is closest to target.\n",
    "\n",
    "Return the sum of the three integers.\n",
    "\n",
    "You may assume that each input would have exactly one solution.\n",
    "\n",
    " \n",
    "\n",
    "Example 1:\n",
    "\n",
    "Input: nums = [-1,2,1,-4], target = 1\n",
    "Output: 2\n",
    "Explanation: The sum that is closest to the target is 2. (-1 + 2 + 1 = 2).\n",
    "Example 2:\n",
    "\n",
    "Input: nums = [0,0,0], target = 1\n",
    "Output: 0\n",
    "Explanation: The sum that is closest to the target is 0. (0 + 0 + 0 = 0).\n",
    " \n",
    "\n",
    "Constraints:\n",
    "\n",
    "3 <= nums.length <= 500\n",
    "-1000 <= nums[i] <= 1000\n",
    "-104 <= target <= 104"
   ]
  },
  {
   "cell_type": "code",
   "execution_count": null,
   "id": "12f2d013",
   "metadata": {},
   "outputs": [],
   "source": [
    "class Solution:\n",
    "    def threeSumClosest(self, nums: List[int], target: int) -> int:\n",
    "        nums.sort()\n",
    "        closest = 100000 ##any high value\n",
    "        for i in range(0,len(nums)-2):\n",
    "            if nums[i] == nums[i-1] and i>0:\n",
    "                continue\n",
    "            left = i+1\n",
    "            right = len(nums)-1\n",
    "            while left<right:\n",
    "                sum = nums[i]+nums[left]+nums[right]\n",
    "                if sum == target:\n",
    "                    return target\n",
    "                if abs(target-sum) < abs(target-closest):\n",
    "                    closest = sum\n",
    "                if sum<=target:\n",
    "                    left+=1\n",
    "                    while (nums[left] == nums[left-1] and left<right):\n",
    "                        left+=1\n",
    "                else:\n",
    "                    right-=1\n",
    "        return closest"
   ]
  }
 ],
 "metadata": {
  "kernelspec": {
   "display_name": "Python 3 (ipykernel)",
   "language": "python",
   "name": "python3"
  },
  "language_info": {
   "codemirror_mode": {
    "name": "ipython",
    "version": 3
   },
   "file_extension": ".py",
   "mimetype": "text/x-python",
   "name": "python",
   "nbconvert_exporter": "python",
   "pygments_lexer": "ipython3",
   "version": "3.9.13"
  }
 },
 "nbformat": 4,
 "nbformat_minor": 5
}
